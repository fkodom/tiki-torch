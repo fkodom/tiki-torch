{
 "cells": [
  {
   "cell_type": "code",
   "execution_count": 1,
   "metadata": {},
   "outputs": [],
   "source": [
    "import os\n",
    "import time\n",
    "import json\n",
    "\n",
    "import numpy as np\n",
    "import plotly.graph_objects as go\n",
    "from scipy.io import loadmat\n",
    "import torch\n",
    "from tqdm import tqdm\n",
    "import panel as pn\n",
    "from panel.widgets import DiscreteSlider\n",
    "\n",
    "from datacube_processing.pcbs import Pcbs\n",
    "from datacube_processing.aaf import amplitude_adaptive_filter\n",
    "from datacube_processing.detector.cacfar import detect\n",
    "from datacube_processing.tabasco import filter_detections\n",
    "from utils.detect import get_detections\n",
    "from roc.stats import get_detection_statistics\n",
    "from roc.utils import detections_array_to_dict, detections_dict_to_array, is_target, \\\n",
    "    get_truth_datacube\n",
    "from roc.logs import get_algorithm_roc_logs\n",
    "from roc.visualize import fpr_tpr, precision_recall"
   ]
  },
  {
   "cell_type": "markdown",
   "metadata": {},
   "source": [
    "### Runtime Parameters"
   ]
  },
  {
   "cell_type": "code",
   "execution_count": 2,
   "metadata": {},
   "outputs": [],
   "source": [
    "# Paths to required files\n",
    "from darcnet.src.yolo import Darcnet                              # path to specific version of Darcnet\n",
    "data_path: str = os.path.join('data', 'DIRSIG', 'dubai-nir.mat')  # path to the raw datacube file (.mat)\n",
    "truth_path: str = os.path.join('data', 'DIRSIG', 'tracks.mat')    # path to the truth datacube (.mat)\n",
    "model: str = os.path.join('darcnet', 'models', 'yolo.dict')       # path to the trained Darcnet model\n",
    "log_path: str = os.path.join('logs', 'roc-08-31-2019.json')       # path to the ROC logs output\n",
    "\n",
    "# Runtime options for computing true/false detections\n",
    "cuda: bool = True           # use CUDA\n",
    "max_distance: float = 1.5   # true detects are within this distance of real targets\n",
    "min_snr: float = 2.5        # minimum summed-box SNR for real targets in the scene\n",
    "inner_radius: float = 2.0   # radius for computing the summed-box signal\n",
    "outer_radius: float = 7.0   # outer radius for computing local background noise\n",
    "max_detects: int = 1        # max detections to associate with one target location\n",
    "\n",
    "# Range of threshold values for iterating\n",
    "darcnet_thresholds: np.ndarray = np.arange(0.75, 4.0, 0.25)\n",
    "cacfar_thresholds: np.ndarray = np.arange(3.75, 6.75, 0.25)\n",
    "darcnet_tabasco_thresholds = np.arange(1.25, 3.5, 0.25)\n",
    "cacfar_tabasco_thresholds = np.arange(3.5, 5.5, 0.25)"
   ]
  },
  {
   "cell_type": "markdown",
   "metadata": {},
   "source": [
    "### Load Datacubes"
   ]
  },
  {
   "cell_type": "code",
   "execution_count": 3,
   "metadata": {},
   "outputs": [],
   "source": [
    "# Define spatial extent\n",
    "# Chosen specifically for the Dubai simulation\n",
    "row_min = 0\n",
    "row_max = 256\n",
    "col_min = 600\n",
    "col_max = 856\n",
    "\n",
    "datacube = loadmat(data_path)['Frames'][row_min:row_max, col_min:col_max].transpose()\n",
    "truth_datacube = loadmat(truth_path)['frameStack'][row_min:row_max, col_min:col_max].transpose()"
   ]
  },
  {
   "cell_type": "markdown",
   "metadata": {},
   "source": [
    "### Prepare Datacubes"
   ]
  },
  {
   "cell_type": "code",
   "execution_count": 4,
   "metadata": {},
   "outputs": [],
   "source": [
    "# Perform background suppression\n",
    "pcbs_datacube = Pcbs().static_pcbs(datacube)\n",
    "\n",
    "# Darcnet datacube should be a Tensor object, with 'batch' and\n",
    "# 'channels' dimensions added.\n",
    "darcnet_datacube = torch.tensor(pcbs_datacube).type(torch.float32)\n",
    "darcnet_datacube = darcnet_datacube.view(1, 1, *datacube.shape)\n",
    "\n",
    "# CA-CFAR datacube should be pre-processed using AAF\n",
    "cacfar_datacube = pcbs_datacube\n",
    "cacfar_datacube = amplitude_adaptive_filter(pcbs_datacube)"
   ]
  },
  {
   "cell_type": "markdown",
   "metadata": {},
   "source": [
    "### Load Targets"
   ]
  },
  {
   "cell_type": "code",
   "execution_count": 5,
   "metadata": {},
   "outputs": [],
   "source": [
    "# Get target 'detections' directly from the truth datacube\n",
    "truth_detections = get_detections(truth_datacube, truth_datacube, 0.01)\n",
    "# Convert detections to an array (will be used later)\n",
    "target_positions = detections_dict_to_array(truth_detections)\n",
    "\n",
    "# Keep only targets with min SNR value (reduces error in computing true positives).\n",
    "truth_idx = is_target(\n",
    "    target_positions, \n",
    "    target_positions, \n",
    "    pcbs_datacube, \n",
    "    max_distance=max_distance, \n",
    "    min_snr=min_snr,\n",
    "    inner_radius=inner_radius, \n",
    "    outer_radius=outer_radius, \n",
    "    max_detects=max_detects\n",
    ")\n",
    "target_positions = target_positions[truth_idx]\n",
    "\n",
    "# Re-generate the truth datacube by including only the visible targets\n",
    "truth_datacube = get_truth_datacube(detections_array_to_dict(target_positions), truth_datacube.shape)"
   ]
  },
  {
   "cell_type": "markdown",
   "metadata": {},
   "source": [
    "### Load Darcnet Model"
   ]
  },
  {
   "cell_type": "code",
   "execution_count": 6,
   "metadata": {},
   "outputs": [],
   "source": [
    "darcnet = Darcnet()\n",
    "if model:\n",
    "    darcnet.load_state_dict(torch.load(model))\n",
    "if cuda and torch.cuda.is_available():\n",
    "    darcnet.cuda()"
   ]
  },
  {
   "cell_type": "markdown",
   "metadata": {},
   "source": [
    "### ROC Helper Functions"
   ]
  },
  {
   "cell_type": "code",
   "execution_count": 7,
   "metadata": {},
   "outputs": [],
   "source": [
    "def darcnet_detect_function(datacube, threshold):\n",
    "    return darcnet.detect(datacube, threshold).cpu().numpy()\n",
    "\n",
    "\n",
    "def cacfar_detect_function(datacube, threshold):\n",
    "    return detections_dict_to_array(\n",
    "        detect(datacube, threshold_ratio=threshold)\n",
    "    )\n",
    "\n",
    "\n",
    "def darcnet_tabasco_detect_function(datacube, threshold):\n",
    "    return filter_detections(\n",
    "        darcnet_detect_function(datacube, threshold)\n",
    "    ).cpu().numpy()\n",
    "\n",
    "\n",
    "def cacfar_tabasco_detect_function(datacube, threshold):\n",
    "    return filter_detections(\n",
    "        cacfar_detect_function(datacube, threshold)\n",
    "    ).cpu().numpy()"
   ]
  },
  {
   "cell_type": "markdown",
   "metadata": {},
   "source": [
    "### Build Algorithms"
   ]
  },
  {
   "cell_type": "code",
   "execution_count": 8,
   "metadata": {},
   "outputs": [],
   "source": [
    "algorithms = [\n",
    "    {\n",
    "        \"name\": \"DARCNET\",\n",
    "        \"detect_datacube\": darcnet_datacube,\n",
    "        \"detect_function\": darcnet_detect_function,\n",
    "        \"detect_thresholds\": darcnet_thresholds,\n",
    "        \"target_positions\": target_positions,\n",
    "        \"pcbs_datacube\": pcbs_datacube,\n",
    "    },\n",
    "    {\n",
    "        \"name\": \"CA-CFAR\",\n",
    "        \"detect_datacube\": cacfar_datacube,\n",
    "        \"detect_function\": cacfar_detect_function,\n",
    "        \"detect_thresholds\": cacfar_thresholds,\n",
    "        \"target_positions\": target_positions,\n",
    "        \"pcbs_datacube\": pcbs_datacube,\n",
    "    },\n",
    "#     {\n",
    "#         \"name\": \"DARCNET + TABASCO\",\n",
    "#         \"detect_datacube\": darcnet_datacube,\n",
    "#         \"detect_function\": darcnet_tabasco_detect_function,\n",
    "#         \"detect_thresholds\": darcnet_tabasco_thresholds,\n",
    "#         \"target_positions\": target_positions,\n",
    "#         \"pcbs_datacube\": pcbs_datacube,\n",
    "#     },\n",
    "#     {\n",
    "#         \"name\": \"CA-CFAR + TABASCO\",\n",
    "#         \"detect_datacube\": cacfar_datacube,\n",
    "#         \"detect_function\": cacfar_tabasco_detect_function,\n",
    "#         \"detect_thresholds\": cacfar_tabasco_thresholds,\n",
    "#         \"target_positions\": target_positions,\n",
    "#         \"pcbs_datacube\": pcbs_datacube,\n",
    "#     },\n",
    "]"
   ]
  },
  {
   "cell_type": "markdown",
   "metadata": {},
   "source": [
    "### Compute ROC Statistics"
   ]
  },
  {
   "cell_type": "code",
   "execution_count": 9,
   "metadata": {},
   "outputs": [],
   "source": [
    "if os.path.isfile(log_path):\n",
    "    with open(log_path, \"r\") as f:\n",
    "        algorithm_logs = json.load(f)\n",
    "else:\n",
    "    algorithm_logs = get_algorithm_roc_logs(\n",
    "        algorithms,\n",
    "        max_distance=max_distance,\n",
    "        min_snr=min_snr,\n",
    "        inner_radius=inner_radius,\n",
    "        outer_radius=outer_radius,\n",
    "        max_detects=max_detects,\n",
    "    )\n",
    "    with open(log_path, \"w\") as f:\n",
    "        json.dump(algorithm_logs, f)"
   ]
  },
  {
   "cell_type": "markdown",
   "metadata": {},
   "source": [
    "### Create Dashboard"
   ]
  },
  {
   "cell_type": "code",
   "execution_count": 10,
   "metadata": {},
   "outputs": [],
   "source": [
    "%%capture\n",
    "\n",
    "\n",
    "markers = [\n",
    "    {\"color\": \"Blue\", \"size\": 5},\n",
    "    {\"color\": \"Red\", \"size\": 5},\n",
    "    {\"color\": \"Blue\", \"size\": 5},\n",
    "    {\"color\": \"Red\", \"size\": 5},\n",
    "]\n",
    "lines = [\n",
    "    {\"color\": \"Blue\", \"dash\": None},\n",
    "    {\"color\": \"Red\", \"dash\": None},\n",
    "    {\"color\": \"Blue\", \"dash\": \"dot\"},\n",
    "    {\"color\": \"Red\", \"dash\": \"dot\"},\n",
    "]\n",
    "\n",
    "\n",
    "@pn.depends()\n",
    "def fpr_tpr_plot():\n",
    "    return fpr_tpr(\n",
    "        algorithm_logs,\n",
    "        markers=markers,\n",
    "        lines=lines\n",
    "    )\n",
    "\n",
    "\n",
    "@pn.depends()\n",
    "def precision_recall_plot():\n",
    "    return precision_recall(\n",
    "        algorithm_logs,\n",
    "        markers=markers,\n",
    "        lines=lines\n",
    "    )\n",
    "\n",
    "\n",
    "title_text = pn.pane.Markdown(\n",
    "    \"\"\"# DARCNET vs CA-CFAR\n",
    "    \n",
    "    Comparing detector performances for varying threshold values.\n",
    "    Test are performed both with and without TABASCO for detection filtering.\n",
    "    \"\"\",\n",
    "    style={\"font-size\": \"12pt\", \"text-align\": \"center\"},\n",
    ")\n",
    "title = pn.Row(\n",
    "    pn.layout.HSpacer(),\n",
    "    title_text,\n",
    "    pn.layout.HSpacer()\n",
    ")\n",
    "plots = pn.Row(\n",
    "    fpr_tpr_plot,\n",
    "    precision_recall_plot,\n",
    ")\n",
    "roc_panel = pn.Row(\n",
    "    pn.layout.HSpacer(),\n",
    "    pn.Column(\n",
    "        pn.layout.VSpacer(),\n",
    "        title,\n",
    "        plots,\n",
    "        pn.layout.VSpacer()\n",
    "    ),\n",
    "    pn.layout.HSpacer()\n",
    ")\n",
    "\n",
    "pn.extension()\n",
    "roc_panel.show()\n",
    "# roc_panel.save('darcnet-cacfar-tabasco.html')"
   ]
  },
  {
   "cell_type": "code",
   "execution_count": null,
   "metadata": {},
   "outputs": [],
   "source": []
  }
 ],
 "metadata": {
  "kernelspec": {
   "display_name": "Python 3",
   "language": "python",
   "name": "python3"
  },
  "language_info": {
   "codemirror_mode": {
    "name": "ipython",
    "version": 3
   },
   "file_extension": ".py",
   "mimetype": "text/x-python",
   "name": "python",
   "nbconvert_exporter": "python",
   "pygments_lexer": "ipython3",
   "version": "3.7.3"
  },
  "pycharm": {
   "stem_cell": {
    "cell_type": "raw",
    "metadata": {
     "collapsed": false
    },
    "source": []
   }
  }
 },
 "nbformat": 4,
 "nbformat_minor": 2
}
